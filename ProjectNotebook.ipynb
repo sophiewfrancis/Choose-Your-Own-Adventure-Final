{
 "cells": [
  {
   "cell_type": "markdown",
   "metadata": {},
   "source": [
    "# Project Description"
   ]
  },
  {
   "cell_type": "markdown",
   "metadata": {},
   "source": [
    "My project is a Choose Your Own Adventure game. There are several choices, paths, and a total of sixteen different endings, two of which result in the player \"winning\" the game. I have included a text cell above extra credit that shows the paths to each ending (included for grading purposes only). This game takes in user information and crafts the beginning of the game accordingly, then everything that happens is 100% based on the choices the user makes. \n",
    "\n",
    "In this game, you're being led into prison, and you quickly meet your good-intentioned but maybe overzealous cellmate who wants to try and break out, and you decide (or don't) to go with them. From there, the story is yours.\n",
    "\n",
    "The game/storyline was inspired by Bandersnatch, a choose your own adventure movie from the Black Mirror universe; A Heist with Markiplier, a choose your own adventure YouTube series that involves a museum heist and a prison break; and A Way Out, a choose your own adventure video game that follows two escaped convicts.\n",
    "\n",
    "\n",
    "The game was originally put into functions more so to organize it than to utilize the actual structure and functionality of functions, but it ended up making the whole game run more smoothly. If you are playing this over and over, it should prompt you immediately after running the first block, but after about 4-5 runs, it will slow down. I have found that restarting the kernel fixes this error.\n",
    "\n",
    "A pytest note: I couldn't get pytest to run in this file, but I got it to run elsewhere successfully. Geoff said in office hours this was alright as long as I acknowledged it. \n",
    "\n",
    "I had a ton of fun making this game, and I hope you enjoy playing it!\n"
   ]
  },
  {
   "cell_type": "markdown",
   "metadata": {},
   "source": [
    "## Project Code\n",
    "\n",
    "If it makes sense for your project, you can have code and outputs here in the notebook as well."
   ]
  },
  {
   "cell_type": "code",
   "execution_count": null,
   "metadata": {
    "scrolled": true
   },
   "outputs": [],
   "source": [
    "from my_module.functions import *\n",
    "from my_module.test_functions import *"
   ]
  },
  {
   "cell_type": "code",
   "execution_count": 11,
   "metadata": {},
   "outputs": [
    {
     "name": "stdout",
     "output_type": "stream",
     "text": [
      "============================= test session starts =============================\n",
      "platform win32 -- Python 3.7.6, pytest-5.3.5, py-1.8.1, pluggy-0.13.1\n",
      "rootdir: C:\\Users\\sophi\\MyProjectFolder\n",
      "plugins: hypothesis-5.5.4, arraydiff-0.3, astropy-header-0.1.2, doctestplus-0.5.0, openfiles-0.4.0, remotedata-0.3.2\n",
      "collected 0 items / 1 error\n",
      "\n",
      "=================================== ERRORS ====================================\n",
      "________________ ERROR collecting my_module/test_functions.py _________________\n",
      "my_module\\test_functions.py:7: in <module>\n",
      "    from my_module.functions import idea, which_crime\n",
      "my_module\\functions.py:14: in <module>\n",
      "    ans1 = input ('Would you like to play a game? (yes/no) ')\n",
      "..\\OneDrive\\Documents\\Anaconda\\lib\\site-packages\\_pytest\\capture.py:700: in read\n",
      "    \"pytest: reading from stdin while output is captured!  Consider using `-s`.\"\n",
      "E   OSError: pytest: reading from stdin while output is captured!  Consider using `-s`.\n",
      "------------------------------- Captured stdout -------------------------------\n",
      "Would you like to play a game? (yes/no) \n",
      "!!!!!!!!!!!!!!!!!!! Interrupted: 1 error during collection !!!!!!!!!!!!!!!!!!!!\n",
      "============================== 1 error in 0.29s ===============================\n"
     ]
    }
   ],
   "source": [
    "#!pytest my_module/test_functions.py"
   ]
  },
  {
   "cell_type": "code",
   "execution_count": null,
   "metadata": {},
   "outputs": [],
   "source": []
  },
  {
   "cell_type": "markdown",
   "metadata": {},
   "source": [
    "# Endings Guide\n",
    "Notes: \n",
    "- the first \"yes\" in each guide refers to the answer to \"Would you like to play the game?\"\n",
    "- if there's an 'or', that means either of the options works to get you to that answer\n",
    "- if there's an 'any', that means any of the options will work\n",
    "\n",
    "**One**     \n",
    "yes>enter player info> no (The Introvert)\n",
    "\n",
    "\n",
    "**Two**     \n",
    "yes>enter player info> yes> any> no (The Coward)\n",
    "\n",
    "\n",
    "**Three**          \n",
    "yes>enter player info> yes> any> yes> dig out> spoon (The Archeologist)\n",
    "\n",
    "\n",
    "**Four**     \n",
    "yes>enter player info> yes> any> yes> pick lock> any> attack (The Assailant)\n",
    "\n",
    "\n",
    "**Five**     \n",
    "yes>enter player info> yes> any> yes> pick lock> any> sneak> cafeteria (The Socialite)\n",
    "\n",
    "**Six**     \n",
    "yes>enter player info> yes> any> yes> pick lock> any> sneak> vents> stay together (The Altruist)\n",
    "\n",
    "**Seven**     \n",
    "yes>enter player info> yes> any> yes> pick lock> any> sneak> vents> go alone> light (The Hopeful)\n",
    "\n",
    "**Eight**     \n",
    "yes>enter player info> yes> any> yes> pick lock> any> sneak> vents> dark> short but creaky> rush (The Bull in a China Shop)\n",
    "\n",
    "**Nine**     \n",
    "yes>enter player info> yes> any> yes> pick lock> any> sneak> vents> dark> short but creaky> slow (The Daredevil)\n",
    "\n",
    "**Ten** (win)     \n",
    "yes>enter player info> yes> any> yes> pick lock> any> sneak> vents> dark> long but stable (The Smooth Criminal)\n",
    "\n",
    "**Eleven**     \n",
    "yes>enter player info> yes> any> yes> pick lock> any> sneak> tunnels> against (The Environmentally Inept)\n",
    "\n",
    "**Twelve**     \n",
    "yes>enter player info> yes> any> yes> pick lock> any> sneak> tunnels> with> dark (The Failed Cartographer)\n",
    "\n",
    "**Thirteen** (win)     \n",
    "yes>enter player info> yes> any> yes> pick lock> any> sneak> tunnels> with> light> loud> run (The Steve Irwin)\n",
    "\n",
    "**Fourteen**     \n",
    "yes>enter player info> yes> any> yes> pick lock> any> sneak> tunnels> with> light> loud> sneak (The Lunch)\n",
    "\n",
    "**Fifteen** (personal favorite)     \n",
    "yes>enter player info> yes> any> yes> pick lock> any> sneak> tunnels> with> light> quiet (The Monty Python)\n",
    "\n",
    "**Sixteen**     \n",
    "yes>enter player info> yes> any> yes> dig out> hammer> (The Shawshank)\n",
    " \n"
   ]
  },
  {
   "cell_type": "markdown",
   "metadata": {},
   "source": [
    "#### Extra Credit (*optional*)\n",
    "\n",
    "Going into this class, I had no prior coding experience in any language. I went above and beyond in this project by using this link () to teach myself monkeypatch, an easier way to test functions that require a user input. I also learned to use and import Fore and Style in order to make my output more readable and visually appealing."
   ]
  },
  {
   "cell_type": "code",
   "execution_count": null,
   "metadata": {},
   "outputs": [],
   "source": []
  }
 ],
 "metadata": {
  "kernelspec": {
   "display_name": "Python 3",
   "language": "python",
   "name": "python3"
  },
  "language_info": {
   "codemirror_mode": {
    "name": "ipython",
    "version": 3
   },
   "file_extension": ".py",
   "mimetype": "text/x-python",
   "name": "python",
   "nbconvert_exporter": "python",
   "pygments_lexer": "ipython3",
   "version": "3.7.6"
  }
 },
 "nbformat": 4,
 "nbformat_minor": 2
}
